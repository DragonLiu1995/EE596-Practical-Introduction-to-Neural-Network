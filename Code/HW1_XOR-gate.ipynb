{
 "cells": [
  {
   "cell_type": "code",
   "execution_count": 1,
   "metadata": {},
   "outputs": [
    {
     "name": "stderr",
     "output_type": "stream",
     "text": [
      "C:\\Users\\LXL\\Anaconda3\\lib\\site-packages\\h5py\\__init__.py:36: FutureWarning: Conversion of the second argument of issubdtype from `float` to `np.floating` is deprecated. In future, it will be treated as `np.float64 == np.dtype(float).type`.\n",
      "  from ._conv import register_converters as _register_converters\n"
     ]
    }
   ],
   "source": [
    "import tensorflow as tf\n",
    "import numpy as np\n",
    "import matplotlib.pyplot as plt"
   ]
  },
  {
   "cell_type": "markdown",
   "metadata": {},
   "source": [
    "<h2>Define Hyper-parameters</h2>"
   ]
  },
  {
   "cell_type": "code",
   "execution_count": 36,
   "metadata": {},
   "outputs": [],
   "source": [
    "hidden_size1 = 2\n",
    "output_size = 2\n",
    "inp_size = 2\n",
    "lr = 0.05\n",
    "max_iter = 100000"
   ]
  },
  {
   "cell_type": "markdown",
   "metadata": {},
   "source": [
    "<h2>Define your input data and expected labels</h2>"
   ]
  },
  {
   "cell_type": "code",
   "execution_count": 37,
   "metadata": {},
   "outputs": [],
   "source": [
    "inp = np.array([[0,0],[0,1],[1,0],[1,1]], dtype=np.float32)\n",
    "label = np.array([[1,0],[0,1],[0,1],[1,0]], dtype=np.float32)\n",
    "tf.reset_default_graph()"
   ]
  },
  {
   "cell_type": "markdown",
   "metadata": {},
   "source": [
    "<h2>Define placeholder and Variables</h2>"
   ]
  },
  {
   "cell_type": "code",
   "execution_count": 38,
   "metadata": {},
   "outputs": [],
   "source": [
    "X = tf.placeholder(dtype=tf.float32, shape=[None, inp_size])\n",
    "y = tf.placeholder(dtype=tf.float32, shape=[None,2])\n",
    "W1 = tf.Variable(2*tf.random_uniform(shape=[inp_size, hidden_size1])-1, name='W1')\n",
    "b1 = tf.Variable(tf.zeros(shape=[hidden_size1]), name='b1')\n",
    "W2 = tf.Variable(2*tf.random_uniform(shape=[hidden_size1, output_size])-1, name='W2')\n",
    "b2 = tf.Variable(tf.zeros(shape=[output_size]), name='b2')"
   ]
  },
  {
   "cell_type": "markdown",
   "metadata": {},
   "source": [
    "<h2>Define the neural network</h2>"
   ]
  },
  {
   "cell_type": "code",
   "execution_count": 39,
   "metadata": {},
   "outputs": [],
   "source": [
    "def neuralNet(X):\n",
    "    layer_1_out = tf.nn.tanh(tf.add(tf.matmul(X, W1), b1))\n",
    "    output = tf.nn.sigmoid(tf.add(tf.matmul(layer_1_out, W2), b2))\n",
    "    return output"
   ]
  },
  {
   "cell_type": "markdown",
   "metadata": {},
   "source": [
    "<h2>Define cost function</h2>"
   ]
  },
  {
   "cell_type": "code",
   "execution_count": 40,
   "metadata": {},
   "outputs": [],
   "source": [
    "logit = neuralNet(X)\n",
    "loss = tf.reduce_mean(tf.nn.softmax_cross_entropy_with_logits_v2(labels=y, logits=logit))\n",
    "optimizer = tf.train.GradientDescentOptimizer(learning_rate=lr)\n",
    "model = optimizer.minimize(loss)\n",
    "\n",
    "pred = tf.argmax(logit,1)\n",
    "actual = tf.argmax(y,1)\n",
    "accuracy = tf.reduce_mean(tf.cast(tf.equal(pred, actual),dtype=tf.float32))\n",
    "init=tf.global_variables_initializer()"
   ]
  },
  {
   "cell_type": "markdown",
   "metadata": {},
   "source": [
    "<h2>Execute training</h2>"
   ]
  },
  {
   "cell_type": "code",
   "execution_count": 50,
   "metadata": {
    "scrolled": false
   },
   "outputs": [
    {
     "name": "stdout",
     "output_type": "stream",
     "text": [
      "0th iteration: The accuracy is 0.25\n",
      "10000th iteration: The accuracy is 1.00\n",
      "20000th iteration: The accuracy is 1.00\n",
      "30000th iteration: The accuracy is 1.00\n",
      "40000th iteration: The accuracy is 1.00\n",
      "50000th iteration: The accuracy is 1.00\n",
      "60000th iteration: The accuracy is 1.00\n",
      "70000th iteration: The accuracy is 1.00\n",
      "80000th iteration: The accuracy is 1.00\n",
      "90000th iteration: The accuracy is 1.00\n",
      "training finish\n"
     ]
    }
   ],
   "source": [
    "m=10\n",
    "x = np.linspace(0,1,m);\n",
    "Value=np.zeros((m,m))\n",
    "with tf.Session() as sess:\n",
    "    sess.run(init)\n",
    "    for i in range(max_iter):\n",
    "        sess.run(model, feed_dict={X:inp, y:label})\n",
    "        if i % 10000 == 0:\n",
    "            acc = sess.run(accuracy, feed_dict={X:inp, y:label})\n",
    "            print(str(i)+\"th iteration: The accuracy is {:.2f}\".format(float(acc)))\n",
    "    print(\"training finish\")\n",
    "    for k1 in range(m):\n",
    "        for k2 in range(m): \n",
    "            inp_i=np.array([x[k1],x[k2]], dtype = np.float32)\n",
    "            inp_i = inp_i.reshape((1, 2))\n",
    "            Value[k1,k2] = sess.run(pred, feed_dict={X:inp_i})"
   ]
  },
  {
   "cell_type": "markdown",
   "metadata": {},
   "source": [
    "<h2>Plot</h2>"
   ]
  },
  {
   "cell_type": "markdown",
   "metadata": {},
   "source": [
    "The approximate decision boundary of the neural network is shown below."
   ]
  },
  {
   "cell_type": "code",
   "execution_count": 56,
   "metadata": {},
   "outputs": [
    {
     "name": "stdout",
     "output_type": "stream",
     "text": [
      "[[0. 0. 0. 0. 0. 1. 1. 1. 1. 1.]\n",
      " [0. 0. 0. 0. 1. 1. 1. 1. 1. 1.]\n",
      " [0. 0. 0. 1. 1. 1. 1. 1. 1. 1.]\n",
      " [0. 0. 1. 1. 1. 1. 1. 1. 1. 1.]\n",
      " [0. 1. 1. 1. 1. 1. 1. 1. 1. 1.]\n",
      " [1. 1. 1. 1. 1. 1. 1. 1. 1. 0.]\n",
      " [1. 1. 1. 1. 1. 1. 1. 1. 0. 0.]\n",
      " [1. 1. 1. 1. 1. 1. 1. 0. 0. 0.]\n",
      " [1. 1. 1. 1. 1. 1. 0. 0. 0. 0.]\n",
      " [1. 1. 1. 1. 1. 0. 0. 0. 0. 0.]]\n"
     ]
    },
    {
     "data": {
      "image/png": "[encoded data removed]",
      "text/plain": [
       "<matplotlib.figure.Figure at 0x202a7af74e0>"
      ]
     },
     "metadata": {},
     "output_type": "display_data"
    }
   ],
   "source": [
    "print(Value)\n",
    "plt.imshow(Value, cmap='Greys', interpolation=None)\n",
    "plt.axis('off')\n",
    "plt.show()"
   ]
  },
  {
   "cell_type": "code",
   "execution_count": null,
   "metadata": {},
   "outputs": [],
   "source": []
  }
 ],
 "metadata": {
  "kernelspec": {
   "display_name": "Python 3",
   "language": "python",
   "name": "python3"
  },
  "language_info": {
   "codemirror_mode": {
    "name": "ipython",
    "version": 3
   },
   "file_extension": ".py",
   "mimetype": "text/x-python",
   "name": "python",
   "nbconvert_exporter": "python",
   "pygments_lexer": "ipython3",
   "version": "3.6.4"
  }
 },
 "nbformat": 4,
 "nbformat_minor": 2
}
