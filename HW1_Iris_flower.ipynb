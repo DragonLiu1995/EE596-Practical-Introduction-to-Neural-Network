{
 "cells": [
  {
   "cell_type": "code",
   "execution_count": 2,
   "metadata": {},
   "outputs": [
    {
     "name": "stderr",
     "output_type": "stream",
     "text": [
      "C:\\Users\\LXL\\Anaconda3\\lib\\site-packages\\h5py\\__init__.py:36: FutureWarning: Conversion of the second argument of issubdtype from `float` to `np.floating` is deprecated. In future, it will be treated as `np.float64 == np.dtype(float).type`.\n",
      "  from ._conv import register_converters as _register_converters\n"
     ]
    }
   ],
   "source": [
    "import tensorflow as tf\n",
    "import numpy as np\n",
    "import pandas as pd\n",
    "from pandas import get_dummies\n",
    "import matplotlib.pyplot as plt\n",
    "from sklearn.model_selection import train_test_split"
   ]
  },
  {
   "cell_type": "markdown",
   "metadata": {},
   "source": [
    "<h1>Load data</h1>"
   ]
  },
  {
   "cell_type": "code",
   "execution_count": 3,
   "metadata": {},
   "outputs": [],
   "source": [
    "file_name = \"iris.data.csv\""
   ]
  },
  {
   "cell_type": "code",
   "execution_count": 4,
   "metadata": {},
   "outputs": [
    {
     "data": {
      "text/html": [
       "<div>\n",
       "<style scoped>\n",
       "    .dataframe tbody tr th:only-of-type {\n",
       "        vertical-align: middle;\n",
       "    }\n",
       "\n",
       "    .dataframe tbody tr th {\n",
       "        vertical-align: top;\n",
       "    }\n",
       "\n",
       "    .dataframe thead th {\n",
       "        text-align: right;\n",
       "    }\n",
       "</style>\n",
       "<table border=\"1\" class=\"dataframe\">\n",
       "  <thead>\n",
       "    <tr style=\"text-align: right;\">\n",
       "      <th></th>\n",
       "      <th>sepal_length</th>\n",
       "      <th>sepal_width</th>\n",
       "      <th>petal_length</th>\n",
       "      <th>petal_width</th>\n",
       "      <th>species</th>\n",
       "    </tr>\n",
       "  </thead>\n",
       "  <tbody>\n",
       "    <tr>\n",
       "      <th>0</th>\n",
       "      <td>5.1</td>\n",
       "      <td>3.5</td>\n",
       "      <td>1.4</td>\n",
       "      <td>0.2</td>\n",
       "      <td>Iris-setosa</td>\n",
       "    </tr>\n",
       "    <tr>\n",
       "      <th>1</th>\n",
       "      <td>4.9</td>\n",
       "      <td>3.0</td>\n",
       "      <td>1.4</td>\n",
       "      <td>0.2</td>\n",
       "      <td>Iris-setosa</td>\n",
       "    </tr>\n",
       "    <tr>\n",
       "      <th>2</th>\n",
       "      <td>4.7</td>\n",
       "      <td>3.2</td>\n",
       "      <td>1.3</td>\n",
       "      <td>0.2</td>\n",
       "      <td>Iris-setosa</td>\n",
       "    </tr>\n",
       "    <tr>\n",
       "      <th>3</th>\n",
       "      <td>4.6</td>\n",
       "      <td>3.1</td>\n",
       "      <td>1.5</td>\n",
       "      <td>0.2</td>\n",
       "      <td>Iris-setosa</td>\n",
       "    </tr>\n",
       "    <tr>\n",
       "      <th>4</th>\n",
       "      <td>5.0</td>\n",
       "      <td>3.6</td>\n",
       "      <td>1.4</td>\n",
       "      <td>0.2</td>\n",
       "      <td>Iris-setosa</td>\n",
       "    </tr>\n",
       "  </tbody>\n",
       "</table>\n",
       "</div>"
      ],
      "text/plain": [
       "   sepal_length  sepal_width  petal_length  petal_width      species\n",
       "0           5.1          3.5           1.4          0.2  Iris-setosa\n",
       "1           4.9          3.0           1.4          0.2  Iris-setosa\n",
       "2           4.7          3.2           1.3          0.2  Iris-setosa\n",
       "3           4.6          3.1           1.5          0.2  Iris-setosa\n",
       "4           5.0          3.6           1.4          0.2  Iris-setosa"
      ]
     },
     "execution_count": 4,
     "metadata": {},
     "output_type": "execute_result"
    }
   ],
   "source": [
    "#load the dataset into memory\n",
    "dataset = pd.read_csv(file_name,header=None,\\\n",
    "                      names=['sepal_length','sepal_width','petal_length','petal_width','species'])\n",
    "#check several examples of data\n",
    "dataset.head()"
   ]
  },
  {
   "cell_type": "code",
   "execution_count": 13,
   "metadata": {},
   "outputs": [
    {
     "name": "stdout",
     "output_type": "stream",
     "text": [
      "(150, 5)\n"
     ]
    }
   ],
   "source": [
    "print(dataset.shape)"
   ]
  },
  {
   "cell_type": "markdown",
   "metadata": {},
   "source": [
    "<h1>Data preprocessing</h1>"
   ]
  },
  {
   "cell_type": "code",
   "execution_count": 5,
   "metadata": {},
   "outputs": [],
   "source": [
    "#simple function to process the data.\n",
    "\"\"\"\n",
    "input:\n",
    "    data: iris dataset\n",
    "    num_features: 2 => select only petal width and petal width.\n",
    "                  4 => select all features\n",
    "    flower: 'Iris-setosa' => labels of Iris-setosa will be 1 and others will be 0\n",
    "            'Iris-virginica' => labels of Iris-virginica will be 1 and others will be 0\n",
    "            'None' => use one-hot encoding to represent the labels\n",
    "\n",
    "return:\n",
    "    x: normalized & shuffled data\n",
    "    y: labels\n",
    "\"\"\"\n",
    "def data_preprocessing(data,num_features,flower=None):\n",
    "    if num_features==2:\n",
    "        features = data.columns[2:4]\n",
    "    else:\n",
    "        features = data.columns[0:4]\n",
    "    labels = dataset.columns[4]\n",
    "    print(features)\n",
    "    print(labels)\n",
    "    #normalize the data\n",
    "    data_norm = pd.DataFrame(data)\n",
    "    for feature in features:\n",
    "        data[feature] = (data[feature]-data[feature].mean())/data[feature].std()\n",
    "\n",
    "    #shuffle the data\n",
    "    indices = data_norm.index.tolist()\n",
    "    indices = np.array(indices)\n",
    "    np.random.shuffle(indices)\n",
    "    x = data_norm.reindex(indices)[features]\n",
    "    y = data_norm.reindex(indices)[labels]\n",
    "    if flower=='Iris-setosa':\n",
    "        for i in range(len(y)):\n",
    "            y[i]=1 if y[i]=='Iris-setosa' else 0\n",
    "        y = y.values.reshape(len(y),1)\n",
    "    elif flower=='Iris-virginica':\n",
    "        for i in range(len(y)):\n",
    "            y[i]=1 if y[i]=='Iris-virginica' else 0\n",
    "        y = y.values.reshape(len(y),1)\n",
    "    else:\n",
    "        y = get_dummies(y)\n",
    "    return x,y"
   ]
  },
  {
   "cell_type": "markdown",
   "metadata": {},
   "source": [
    "<h1>Part a:"
   ]
  },
  {
   "cell_type": "code",
   "execution_count": 5,
   "metadata": {},
   "outputs": [
    {
     "name": "stdout",
     "output_type": "stream",
     "text": [
      "Index(['petal_length', 'petal_width'], dtype='object')\n",
      "species\n"
     ]
    }
   ],
   "source": [
    "x_1,y_1 = data_preprocessing(dataset,2,flower='Iris-setosa')\n",
    "#generate traning and validation sets\n",
    "x_train_1, x_test_1, y_train_1, y_test_1 = train_test_split(x_1,y_1,test_size=0.3)"
   ]
  },
  {
   "cell_type": "markdown",
   "metadata": {},
   "source": [
    "<h2>Define hyper-parameters</h2>"
   ]
  },
  {
   "cell_type": "code",
   "execution_count": 6,
   "metadata": {},
   "outputs": [],
   "source": [
    "lr = 0.1\n",
    "num_iters = 100"
   ]
  },
  {
   "cell_type": "markdown",
   "metadata": {},
   "source": [
    "<h2>Define Placeholder and Variables</h2>"
   ]
  },
  {
   "cell_type": "code",
   "execution_count": 7,
   "metadata": {},
   "outputs": [],
   "source": [
    "tf.reset_default_graph()\n",
    "X = tf.placeholder(shape=[None, 2], dtype=tf.float32)\n",
    "y = tf.placeholder(shape=[None, 1], dtype=tf.float32)\n",
    "W = tf.Variable(tf.random_normal([2, 1]), dtype=tf.float32)\n",
    "b = tf.Variable(tf.zeros([1]), dtype=tf.float32)"
   ]
  },
  {
   "cell_type": "markdown",
   "metadata": {},
   "source": [
    "<h2>Define update rule and accuracy</h2>"
   ]
  },
  {
   "cell_type": "code",
   "execution_count": 8,
   "metadata": {},
   "outputs": [],
   "source": [
    "est = tf.add(tf.matmul(X, W), b)\n",
    "out = tf.round(tf.nn.sigmoid(est))\n",
    "err = y - out\n",
    "accuracy = tf.reduce_mean(tf.cast(tf.equal(out, y), tf.float32))\n",
    "dW = tf.matmul(tf.transpose(X), err)\n",
    "db = tf.reduce_sum(err, 0)\n",
    "W_ = W + lr * dW\n",
    "b_ = b + lr * db\n",
    "step = tf.group(W.assign(W_), b.assign(b_))\n",
    "init = tf.global_variables_initializer()"
   ]
  },
  {
   "cell_type": "code",
   "execution_count": 106,
   "metadata": {
    "scrolled": true
   },
   "outputs": [
    {
     "name": "stdout",
     "output_type": "stream",
     "text": [
      "The 1th epoch: accuracy is 0.96\n",
      "The 11th epoch: accuracy is 1.00\n",
      "The 21th epoch: accuracy is 1.00\n",
      "The 31th epoch: accuracy is 1.00\n",
      "The 41th epoch: accuracy is 1.00\n",
      "The 51th epoch: accuracy is 1.00\n",
      "The 61th epoch: accuracy is 1.00\n",
      "The 71th epoch: accuracy is 1.00\n",
      "The 81th epoch: accuracy is 1.00\n",
      "The 91th epoch: accuracy is 1.00\n",
      "The test accuracy is:  1.0\n"
     ]
    },
    {
     "data": {
      "image/png": "[encoded data removed]",
      "text/plain": [
       "<matplotlib.figure.Figure at 0x1d66cd365f8>"
      ]
     },
     "metadata": {},
     "output_type": "display_data"
    },
    {
     "data": {
      "image/png": "[encoded data removed]",
      "text/plain": [
       "<matplotlib.figure.Figure at 0x1d66cd5c4e0>"
      ]
     },
     "metadata": {},
     "output_type": "display_data"
    }
   ],
   "source": [
    "with tf.Session() as sess:\n",
    "    sess.run(init)\n",
    "    acc_li = []\n",
    "    for i in range(num_iters):\n",
    "        sess.run(step, feed_dict={X:x_train_1, y:y_train_1})\n",
    "        acc = sess.run(accuracy, feed_dict={X:x_train_1, y:y_train_1})\n",
    "        if i % 10 == 0:\n",
    "           print(\"The \"+str(i + 1)+\"th epoch: accuracy is {:.2f}\".format(acc))\n",
    "        acc_li.append(acc)\n",
    "    W_res = np.squeeze(sess.run(W))\n",
    "    b_res = np.squeeze(sess.run(b))\n",
    "    acc_test = sess.run(accuracy, feed_dict={X:x_test_1, y:y_test_1})\n",
    "    print(\"The test accuracy is: \", acc_test)\n",
    "\n",
    "\n",
    "fig1 = plt.figure()\n",
    "plt.xlabel(\"#Epoches\")\n",
    "plt.ylabel(\"Accuracy\")\n",
    "plt.title(\"Training accuracy\")\n",
    "plt.plot(range(1, num_iters + 1), acc_li)\n",
    "\n",
    "fig2 = plt.figure()\n",
    "petal_len = x_train_1[\"petal_length\"].values\n",
    "petal_wid = x_train_1[\"petal_width\"].values\n",
    "min_x = np.min(petal_len) - 1\n",
    "max_x = np.max(petal_len) + 1\n",
    "plot_x = np.array([min_x, max_x])\n",
    "plot_y = 1 / W_res[1] * (-W_res[0] * plot_x - b_res)\n",
    "plt.scatter(petal_len, petal_wid, c=np.squeeze(y_train_1), s=100, cmap='viridis')\n",
    "plt.plot(plot_x, plot_y, color='k', linewidth=2)\n",
    "plt.show()"
   ]
  },
  {
   "cell_type": "markdown",
   "metadata": {},
   "source": [
    "<h3>Analysis</h3>\n",
    "<p>The test accuracy is 100%. Iris-setosa has smaller petal width and length than other flowers</p>"
   ]
  },
  {
   "cell_type": "markdown",
   "metadata": {},
   "source": [
    "<h1>Part b:</h1>"
   ]
  },
  {
   "cell_type": "code",
   "execution_count": 9,
   "metadata": {},
   "outputs": [
    {
     "name": "stdout",
     "output_type": "stream",
     "text": [
      "Index(['petal_length', 'petal_width'], dtype='object')\n",
      "species\n"
     ]
    }
   ],
   "source": [
    "x_2,y_2 = data_preprocessing(dataset,2,flower='Iris-virginica')\n",
    "#generate traning and validation sets\n",
    "x_train_2, x_test_2, y_train_2, y_test_2 = train_test_split(x_2,y_2,test_size=0.3)"
   ]
  },
  {
   "cell_type": "code",
   "execution_count": 12,
   "metadata": {},
   "outputs": [
    {
     "name": "stdout",
     "output_type": "stream",
     "text": [
      "The 1th epoch: accuracy is 0.71\n",
      "The 11th epoch: accuracy is 0.96\n",
      "The 21th epoch: accuracy is 0.96\n",
      "The 31th epoch: accuracy is 0.96\n",
      "The 41th epoch: accuracy is 0.96\n",
      "The 51th epoch: accuracy is 0.96\n",
      "The 61th epoch: accuracy is 0.96\n",
      "The 71th epoch: accuracy is 0.96\n",
      "The 81th epoch: accuracy is 0.96\n",
      "The 91th epoch: accuracy is 0.96\n",
      "The test accuracy is:  0.95555556\n"
     ]
    },
    {
     "data": {
      "image/png": "[encoded data removed]",
      "text/plain": [
       "<matplotlib.figure.Figure at 0x24070061940>"
      ]
     },
     "metadata": {},
     "output_type": "display_data"
    },
    {
     "data": {
      "image/png": "[encoded data removed]",
      "text/plain": [
       "<matplotlib.figure.Figure at 0x24070090b70>"
      ]
     },
     "metadata": {},
     "output_type": "display_data"
    }
   ],
   "source": [
    "with tf.Session() as sess:\n",
    "    sess.run(init)\n",
    "    acc_li = []\n",
    "    for i in range(num_iters):\n",
    "        sess.run(step, feed_dict={X:x_train_2, y:y_train_2})\n",
    "        acc = sess.run(accuracy, feed_dict={X:x_train_2, y:y_train_2})\n",
    "        if i % 10 == 0:\n",
    "           print(\"The \"+str(i + 1)+\"th epoch: accuracy is {:.2f}\".format(acc))\n",
    "        acc_li.append(acc)\n",
    "    W_res = np.squeeze(sess.run(W))\n",
    "    b_res = np.squeeze(sess.run(b))\n",
    "    acc_test = sess.run(accuracy, feed_dict={X:x_test_2, y:y_test_2})\n",
    "    print(\"The test accuracy is: \", acc_test)\n",
    "\n",
    "\n",
    "fig1 = plt.figure()\n",
    "plt.xlabel(\"#Epoches\")\n",
    "plt.ylabel(\"Accuracy\")\n",
    "plt.title(\"Training accuracy\")\n",
    "plt.plot(range(1, num_iters + 1), acc_li)\n",
    "\n",
    "fig2 = plt.figure()\n",
    "petal_len = x_train_2[\"petal_length\"].values\n",
    "petal_wid = x_train_2[\"petal_width\"].values\n",
    "min_x = np.min(petal_len) - 1\n",
    "max_x = np.max(petal_len) + 1\n",
    "plot_x = np.array([min_x, max_x])\n",
    "plot_y = 1 / W_res[1] * (-W_res[0] * plot_x - b_res)\n",
    "plt.scatter(petal_len, petal_wid, c=np.squeeze(y_train_2), s=100, cmap='viridis')\n",
    "plt.plot(plot_x, plot_y, color='k', linewidth=2)\n",
    "plt.show()"
   ]
  },
  {
   "cell_type": "markdown",
   "metadata": {},
   "source": [
    "<h3>Analysis</h3>\n",
    "<p>The test accuracy is 95.6%. Most virginica has larger petal width and length than non-virginica.</p>"
   ]
  },
  {
   "cell_type": "markdown",
   "metadata": {},
   "source": [
    "<h1>Part c:</h1>"
   ]
  },
  {
   "cell_type": "code",
   "execution_count": 29,
   "metadata": {},
   "outputs": [
    {
     "name": "stdout",
     "output_type": "stream",
     "text": [
      "Index(['sepal_length', 'sepal_width', 'petal_length', 'petal_width'], dtype='object')\n",
      "species\n"
     ]
    }
   ],
   "source": [
    "x_3,y_3 = data_preprocessing(dataset,4)\n",
    "#generate traning and validation sets\n",
    "x_train_3, x_test_3, y_train_3, y_test_3 = train_test_split(x_3,y_3,test_size=0.3)"
   ]
  },
  {
   "cell_type": "markdown",
   "metadata": {},
   "source": [
    "<h2>Define hyper-parameters</h2>"
   ]
  },
  {
   "cell_type": "code",
   "execution_count": 62,
   "metadata": {},
   "outputs": [],
   "source": [
    "lr = 0.005\n",
    "num_iter = 100\n",
    "inp_size = 4\n",
    "hidden_size_1 = 256\n",
    "hidden_size_2 = 128\n",
    "output_size = 3"
   ]
  },
  {
   "cell_type": "markdown",
   "metadata": {},
   "source": [
    "<h2>Define placehoder and variables</h2>"
   ]
  },
  {
   "cell_type": "code",
   "execution_count": 63,
   "metadata": {},
   "outputs": [],
   "source": [
    "tf.reset_default_graph()\n",
    "#Placeholders\n",
    "X = tf.placeholder(dtype=tf.float32, shape=[None, inp_size])\n",
    "y = tf.placeholder(dtype=tf.float32, shape=[None, output_size])\n",
    "#Variables\n",
    "initializer = tf.contrib.layers.variance_scaling_initializer()\n",
    "W1 = tf.Variable(initializer([inp_size, hidden_size_1]), dtype=tf.float32)\n",
    "W2 = tf.Variable(initializer([hidden_size_1, hidden_size_2]), dtype=tf.float32)\n",
    "W3 = tf.Variable(initializer([hidden_size_2, output_size]), dtype=tf.float32)\n",
    "b1 = tf.Variable(tf.zeros([hidden_size_1]), dtype=tf.float32)\n",
    "b2 = tf.Variable(tf.zeros([hidden_size_2]), dtype=tf.float32)\n",
    "b3 = tf.Variable(tf.zeros([output_size]), dtype=tf.float32)"
   ]
  },
  {
   "cell_type": "markdown",
   "metadata": {},
   "source": [
    "<h2>Define the neural network</h2>"
   ]
  },
  {
   "cell_type": "code",
   "execution_count": 64,
   "metadata": {},
   "outputs": [],
   "source": [
    "def neural_net(X):\n",
    "    layer1_out = tf.nn.relu(tf.matmul(X, W1) + b1)\n",
    "    layer2_out = tf.nn.relu(tf.matmul(layer1_out, W2) + b2)\n",
    "    out = tf.nn.softmax(tf.matmul(layer2_out, W3) + b3)\n",
    "    return out"
   ]
  },
  {
   "cell_type": "markdown",
   "metadata": {},
   "source": [
    "<h2>Define cost function and accuracy</h2>"
   ]
  },
  {
   "cell_type": "code",
   "execution_count": 65,
   "metadata": {},
   "outputs": [],
   "source": [
    "out = neural_net(X)\n",
    "loss = tf.nn.softmax_cross_entropy_with_logits_v2(labels=y, logits=out)\n",
    "accuracy = tf.reduce_mean(tf.cast(tf.equal(tf.argmax(out, 1), tf.argmax(y, 1)), dtype=tf.float32))\n",
    "optimizer = tf.train.AdamOptimizer(lr)\n",
    "train_op = optimizer.minimize(loss)\n",
    "init = tf.global_variables_initializer()"
   ]
  },
  {
   "cell_type": "markdown",
   "metadata": {},
   "source": [
    "<h2>Execute training</h2>"
   ]
  },
  {
   "cell_type": "code",
   "execution_count": 66,
   "metadata": {
    "scrolled": false
   },
   "outputs": [
    {
     "name": "stdout",
     "output_type": "stream",
     "text": [
      "Accuracy at 1th epoch is: 0.66\n",
      "Accuracy at 2th epoch is: 0.83\n",
      "Accuracy at 3th epoch is: 0.86\n",
      "Accuracy at 4th epoch is: 0.87\n",
      "Accuracy at 5th epoch is: 0.86\n",
      "Accuracy at 6th epoch is: 0.86\n",
      "Accuracy at 7th epoch is: 0.88\n",
      "Accuracy at 8th epoch is: 0.89\n",
      "Accuracy at 9th epoch is: 0.90\n",
      "Accuracy at 10th epoch is: 0.90\n",
      "Accuracy at 11th epoch is: 0.90\n",
      "Accuracy at 12th epoch is: 0.91\n",
      "Accuracy at 13th epoch is: 0.91\n",
      "Accuracy at 14th epoch is: 0.92\n",
      "Accuracy at 15th epoch is: 0.93\n",
      "Accuracy at 16th epoch is: 0.93\n",
      "Accuracy at 17th epoch is: 0.93\n",
      "Accuracy at 18th epoch is: 0.93\n",
      "Accuracy at 19th epoch is: 0.93\n",
      "Accuracy at 20th epoch is: 0.93\n",
      "Accuracy at 21th epoch is: 0.94\n",
      "Accuracy at 22th epoch is: 0.94\n",
      "Accuracy at 23th epoch is: 0.94\n",
      "Accuracy at 24th epoch is: 0.94\n",
      "Accuracy at 25th epoch is: 0.94\n",
      "Accuracy at 26th epoch is: 0.94\n",
      "Accuracy at 27th epoch is: 0.95\n",
      "Accuracy at 28th epoch is: 0.96\n",
      "Accuracy at 29th epoch is: 0.96\n",
      "Accuracy at 30th epoch is: 0.97\n",
      "Accuracy at 31th epoch is: 0.98\n",
      "Accuracy at 32th epoch is: 0.98\n",
      "Accuracy at 33th epoch is: 0.98\n",
      "Accuracy at 34th epoch is: 0.98\n",
      "Accuracy at 35th epoch is: 0.99\n",
      "Accuracy at 36th epoch is: 0.99\n",
      "Accuracy at 37th epoch is: 0.99\n",
      "Accuracy at 38th epoch is: 0.99\n",
      "Accuracy at 39th epoch is: 0.99\n",
      "Accuracy at 40th epoch is: 0.99\n",
      "Accuracy at 41th epoch is: 0.99\n",
      "Accuracy at 42th epoch is: 0.99\n",
      "Accuracy at 43th epoch is: 0.99\n",
      "Accuracy at 44th epoch is: 0.99\n",
      "Accuracy at 45th epoch is: 0.99\n",
      "Accuracy at 46th epoch is: 0.99\n",
      "Accuracy at 47th epoch is: 0.99\n",
      "Accuracy at 48th epoch is: 0.99\n",
      "Accuracy at 49th epoch is: 0.99\n",
      "Accuracy at 50th epoch is: 0.99\n",
      "Accuracy at 51th epoch is: 1.00\n",
      "Accuracy at 52th epoch is: 1.00\n",
      "Accuracy at 53th epoch is: 1.00\n",
      "Accuracy at 54th epoch is: 1.00\n",
      "Accuracy at 55th epoch is: 1.00\n",
      "Accuracy at 56th epoch is: 1.00\n",
      "Accuracy at 57th epoch is: 1.00\n",
      "Accuracy at 58th epoch is: 1.00\n",
      "Accuracy at 59th epoch is: 1.00\n",
      "Accuracy at 60th epoch is: 1.00\n",
      "Accuracy at 61th epoch is: 1.00\n",
      "Accuracy at 62th epoch is: 1.00\n",
      "Accuracy at 63th epoch is: 1.00\n",
      "Accuracy at 64th epoch is: 1.00\n",
      "Accuracy at 65th epoch is: 1.00\n",
      "Accuracy at 66th epoch is: 1.00\n",
      "Accuracy at 67th epoch is: 1.00\n",
      "Accuracy at 68th epoch is: 1.00\n",
      "Accuracy at 69th epoch is: 1.00\n",
      "Accuracy at 70th epoch is: 1.00\n",
      "Accuracy at 71th epoch is: 1.00\n",
      "Accuracy at 72th epoch is: 1.00\n",
      "Accuracy at 73th epoch is: 1.00\n",
      "Accuracy at 74th epoch is: 1.00\n",
      "Accuracy at 75th epoch is: 1.00\n",
      "Accuracy at 76th epoch is: 1.00\n",
      "Accuracy at 77th epoch is: 1.00\n",
      "Accuracy at 78th epoch is: 1.00\n",
      "Accuracy at 79th epoch is: 1.00\n",
      "Accuracy at 80th epoch is: 1.00\n",
      "Accuracy at 81th epoch is: 1.00\n",
      "Accuracy at 82th epoch is: 1.00\n",
      "Accuracy at 83th epoch is: 1.00\n",
      "Accuracy at 84th epoch is: 1.00\n",
      "Accuracy at 85th epoch is: 1.00\n",
      "Accuracy at 86th epoch is: 1.00\n",
      "Accuracy at 87th epoch is: 1.00\n",
      "Accuracy at 88th epoch is: 1.00\n",
      "Accuracy at 89th epoch is: 1.00\n",
      "Accuracy at 90th epoch is: 1.00\n",
      "Accuracy at 91th epoch is: 1.00\n",
      "Accuracy at 92th epoch is: 1.00\n",
      "Accuracy at 93th epoch is: 1.00\n",
      "Accuracy at 94th epoch is: 1.00\n",
      "Accuracy at 95th epoch is: 1.00\n",
      "Accuracy at 96th epoch is: 1.00\n",
      "Accuracy at 97th epoch is: 1.00\n",
      "Accuracy at 98th epoch is: 1.00\n",
      "Accuracy at 99th epoch is: 1.00\n",
      "Accuracy at 100th epoch is: 1.00\n",
      "Training finished!\n",
      "The test accuracy is:  0.9111111\n"
     ]
    }
   ],
   "source": [
    "with tf.Session() as sess:\n",
    "    sess.run(init)\n",
    "    acc_list = []\n",
    "    for i in range(num_iter):\n",
    "        sess.run(train_op, feed_dict={X:x_train_3, y:y_train_3})\n",
    "        acc = sess.run(accuracy, feed_dict={X:x_train_3, y:y_train_3})\n",
    "        acc_list.append(acc)\n",
    "        print(\"Accuracy at \"+str(i+1)+\"th epoch is: {:.2f}\".format(acc))\n",
    "    print(\"Training finished!\")\n",
    "    acc_test = sess.run(accuracy, feed_dict={X:x_test_3, y:y_test_3})\n",
    "    print(\"The test accuracy is: \", acc_test)"
   ]
  },
  {
   "cell_type": "markdown",
   "metadata": {},
   "source": [
    "<h2>Plot</h2>"
   ]
  },
  {
   "cell_type": "code",
   "execution_count": 61,
   "metadata": {},
   "outputs": [
    {
     "data": {
      "image/png": "[encoded data removed]",
      "text/plain": [
       "<matplotlib.figure.Figure at 0x24073523470>"
      ]
     },
     "metadata": {},
     "output_type": "display_data"
    }
   ],
   "source": [
    "fig1 = plt.figure()\n",
    "plt.xlabel(\"#epoches\")\n",
    "plt.ylabel(\"accuracy\")\n",
    "plt.plot(range(100), acc_list)\n",
    "plt.show()"
   ]
  }
 ],
 "metadata": {
  "kernelspec": {
   "display_name": "Python 3",
   "language": "python",
   "name": "python3"
  },
  "language_info": {
   "codemirror_mode": {
    "name": "ipython",
    "version": 3
   },
   "file_extension": ".py",
   "mimetype": "text/x-python",
   "name": "python",
   "nbconvert_exporter": "python",
   "pygments_lexer": "ipython3",
   "version": "3.6.4"
  }
 },
 "nbformat": 4,
 "nbformat_minor": 2
}
