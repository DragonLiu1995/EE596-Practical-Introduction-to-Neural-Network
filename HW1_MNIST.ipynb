{
 "cells": [
  {
   "cell_type": "code",
   "execution_count": 1,
   "metadata": {},
   "outputs": [
    {
     "name": "stderr",
     "output_type": "stream",
     "text": [
      "C:\\Users\\LXL\\Anaconda3\\lib\\site-packages\\h5py\\__init__.py:36: FutureWarning: Conversion of the second argument of issubdtype from `float` to `np.floating` is deprecated. In future, it will be treated as `np.float64 == np.dtype(float).type`.\n",
      "  from ._conv import register_converters as _register_converters\n"
     ]
    }
   ],
   "source": [
    "import tensorflow as tf\n",
    "old_v = tf.logging.get_verbosity()\n",
    "tf.logging.set_verbosity(tf.logging.ERROR)"
   ]
  },
  {
   "cell_type": "markdown",
   "metadata": {},
   "source": [
    "<h2>Extract MNIST data</h2>\n",
    "<p style=\"font-size:20px\">You can change the option of one_hot encoding."
   ]
  },
  {
   "cell_type": "code",
   "execution_count": 2,
   "metadata": {},
   "outputs": [
    {
     "name": "stdout",
     "output_type": "stream",
     "text": [
      "Successfully downloaded train-images-idx3-ubyte.gz 9912422 bytes.\n",
      "Extracting MNIST_data/train-images-idx3-ubyte.gz\n",
      "Successfully downloaded train-labels-idx1-ubyte.gz 28881 bytes.\n",
      "Extracting MNIST_data/train-labels-idx1-ubyte.gz\n",
      "Successfully downloaded t10k-images-idx3-ubyte.gz 1648877 bytes.\n",
      "Extracting MNIST_data/t10k-images-idx3-ubyte.gz\n",
      "Successfully downloaded t10k-labels-idx1-ubyte.gz 4542 bytes.\n",
      "Extracting MNIST_data/t10k-labels-idx1-ubyte.gz\n"
     ]
    }
   ],
   "source": [
    "from tensorflow.examples.tutorials.mnist import input_data\n",
    "#get mnist data, with one_hot encoding\n",
    "mnist = input_data.read_data_sets(\"MNIST_data/\",one_hot=True)\n",
    "#suppress warnings\n",
    "tf.logging.set_verbosity(old_v)"
   ]
  },
  {
   "cell_type": "markdown",
   "metadata": {},
   "source": [
    "<h2>Define hyperparameters</h2>"
   ]
  },
  {
   "cell_type": "code",
   "execution_count": 38,
   "metadata": {},
   "outputs": [],
   "source": [
    "num_train = mnist.train.num_examples #55,000\n",
    "num_validation = mnist.validation.num_examples #5000\n",
    "num_test = mnist.test.num_examples #10,000\n",
    "\n",
    "#learning rate\n",
    "lr = 0.005\n",
    "#number of traning steps\n",
    "num_steps =500\n",
    "#number of batch_size\n",
    "batch_size = 256\n",
    "\n",
    "#network parameters\n",
    "n_hidden_1 = 200\n",
    "n_hidden_2 = 100\n",
    "num_input = 784\n",
    "num_classes = 10"
   ]
  },
  {
   "cell_type": "markdown",
   "metadata": {},
   "source": [
    "<h2>Define placeholder and Variables</h2>"
   ]
  },
  {
   "cell_type": "code",
   "execution_count": 39,
   "metadata": {},
   "outputs": [],
   "source": [
    "tf.reset_default_graph()\n",
    "#tf graph input\n",
    "X = tf.placeholder(tf.float32,[None,num_input],name='X')\n",
    "Y = tf.placeholder(tf.int32,[None,num_classes],name='Y')\n",
    "initializer = tf.contrib.layers.variance_scaling_initializer()\n",
    "#initializer = tf.initializers.random_normal()\n",
    "#Layers weight & bias\n",
    "weights = {\n",
    "    'W1': tf.Variable(initializer([num_input, n_hidden_1]),name='W1'),\n",
    "    'W2': tf.Variable(initializer([n_hidden_1, n_hidden_2]),name='W2'),\n",
    "    'Wout': tf.Variable(initializer([n_hidden_2, num_classes]),name='Wout')\n",
    "}\n",
    "\n",
    "biases = {\n",
    "    'b1': tf.Variable(tf.zeros(shape=[n_hidden_1]),name='b1'),\n",
    "    'b2': tf.Variable(tf.zeros(shape=[n_hidden_2]),name='b2'),\n",
    "    'bout': tf.Variable(tf.zeros(shape=[num_classes]),name='bout')\n",
    "}"
   ]
  },
  {
   "cell_type": "markdown",
   "metadata": {},
   "source": [
    "<h2>Define neural network</h2>"
   ]
  },
  {
   "cell_type": "code",
   "execution_count": 40,
   "metadata": {},
   "outputs": [],
   "source": [
    "#define a neural net model\n",
    "def neural_net(x):\n",
    "    layer_1_out = tf.nn.relu(tf.add(tf.matmul(x,weights['W1']),biases['b1']))\n",
    "    layer_2_out = tf.nn.relu(tf.add(tf.matmul(layer_1_out,weights['W2']),biases['b2']))\n",
    "    out = tf.add(tf.matmul(layer_2_out,weights['Wout']),biases['bout'])\n",
    "    return out"
   ]
  },
  {
   "cell_type": "markdown",
   "metadata": {},
   "source": [
    "<h2>Define cost function and accuracy</h2>"
   ]
  },
  {
   "cell_type": "code",
   "execution_count": 41,
   "metadata": {},
   "outputs": [],
   "source": [
    "#predicted labels\n",
    "logits = neural_net(X)\n",
    "\n",
    "#define loss\n",
    "loss = tf.reduce_mean(tf.nn.softmax_cross_entropy_with_logits_v2(logits=logits,labels=Y),name='loss')\n",
    "#define optimizer\n",
    "optimizer = tf.train.AdamOptimizer(learning_rate=lr)\n",
    "train_op = optimizer.minimize(loss)\n",
    "\n",
    "#compare the predicted labels with true labels\n",
    "correct_pred = tf.equal(tf.argmax(logits,1),tf.argmax(Y,1))\n",
    "\n",
    "#compute the accuracy by taking average\n",
    "accuracy = tf.reduce_mean(tf.cast(correct_pred,tf.float32),name='accuracy')\n",
    "\n",
    "#Initialize the variables\n",
    "init = tf.global_variables_initializer()"
   ]
  },
  {
   "cell_type": "markdown",
   "metadata": {},
   "source": [
    "<h2>Execute training</h2>"
   ]
  },
  {
   "cell_type": "code",
   "execution_count": 42,
   "metadata": {},
   "outputs": [
    {
     "name": "stdout",
     "output_type": "stream",
     "text": [
      "step 0, Accuracy= 0.293\n",
      "step 100, Accuracy= 0.957\n",
      "step 200, Accuracy= 0.961\n",
      "step 300, Accuracy= 0.973\n",
      "step 400, Accuracy= 1.000\n",
      "Training finished!\n",
      "Testing ACcuracy: 0.9683\n"
     ]
    }
   ],
   "source": [
    "with tf.Session() as sess:\n",
    "    sess.run(init)\n",
    "    \n",
    "    for i in range(num_steps):\n",
    "        #fetch batch\n",
    "        batch_x, batch_y = mnist.train.next_batch(batch_size)\n",
    "        #run optimization\n",
    "        sess.run(train_op, feed_dict={X:batch_x, Y:batch_y})\n",
    "        if i % 100 ==0:\n",
    "            acc = sess.run(accuracy,feed_dict={X:batch_x, Y:batch_y})\n",
    "            print(\"step \"+str(i)+\", Accuracy= {:.3f}\".format(acc))\n",
    "    \n",
    "    print(\"Training finished!\")\n",
    "    \n",
    "    print(\"Testing ACcuracy:\", sess.run(accuracy, feed_dict={X:mnist.test.images, Y:mnist.test.labels}))"
   ]
  },
  {
   "cell_type": "markdown",
   "metadata": {},
   "source": [
    "<h2>Your results</h2>"
   ]
  },
  {
   "cell_type": "markdown",
   "metadata": {},
   "source": [
    "<table>\n",
    "  <tr>\n",
    "      <th> Activation function </th>\n",
    "      <th> intialization method </th>\n",
    "      <th> Optimizer </th>\n",
    "      <th> Learning Rate</th>\n",
    "      <th> total number of neurons for 2 layers</th>\n",
    "      <th> Testing accuracy</th>\n",
    "  </tr>\n",
    "  <tr>\n",
    "      <td> tanh</td>\n",
    "      <td> random normal</td>\n",
    "      <td> Adam</td>\n",
    "      <td> 0.001</td>\n",
    "      <td> 300</td>\n",
    "      <td> 0.875</td>\n",
    "  </tr>\n",
    "    <tr>\n",
    "      <td> relu</td>\n",
    "      <td> random normal</td>\n",
    "      <td> Adam</td>\n",
    "      <td> 0.001</td>\n",
    "      <td> 300</td>\n",
    "      <td> 0.893</td>\n",
    "  </tr>\n",
    "   <tr>\n",
    "      <td> relu</td>\n",
    "      <td> He initialization</td>\n",
    "      <td> Adam</td>\n",
    "      <td> 0.001</td>\n",
    "      <td> 300</td>\n",
    "      <td> 0.961</td>\n",
    "  </tr>\n",
    "     <tr>\n",
    "      <td> relu</td>\n",
    "      <td> He initialization</td>\n",
    "      <td> Adam</td>\n",
    "      <td> 0.001</td>\n",
    "      <td> 500</td>\n",
    "      <td> 0.963</td>\n",
    "  </tr>\n",
    "   <tr>\n",
    "      <td> relu</td>\n",
    "      <td> He initialization</td>\n",
    "      <td> Adam</td>\n",
    "      <td> 0.005</td>\n",
    "      <td> 500</td>\n",
    "      <td> 0.968</td>\n",
    "  </tr>\n",
    "  <tr>\n",
    "      <td> relu</td>\n",
    "      <td> He initialization</td>\n",
    "      <td> Adam</td>\n",
    "      <td> 0.01</td>\n",
    "      <td> 300</td>\n",
    "      <td> 0.926</td>\n",
    "  </tr>\n",
    "  <tr>\n",
    "      <td> relu</td>\n",
    "      <td> He initialization</td>\n",
    "      <td> SGD</td>\n",
    "      <td> 0.005</td>\n",
    "      <td> 300</td>\n",
    "      <td> 0.916</td>\n",
    "  </tr>\n",
    "</table>"
   ]
  },
  {
   "cell_type": "markdown",
   "metadata": {},
   "source": [
    "<h3>Conclusion</h3>\n",
    "<p>After tuning the hyperparameters, I arrive at conclusion that the choice of activation be ReLu makes the performance much better.</p>\n",
    "<p>And within the setting of ReLu, choosing He initialization are the best.</p> \n",
    "<p>For learning rate, the general interval should be betwwen 0.001 to 0.01 to reach a good local minimum.</p>\n",
    "<p>And the adoption of Adam Optimizer should be essential to make the optimization better. </p>\n",
    "<p>For number of neurons, numbers at level of several hundreds should be good choice.</p>"
   ]
  }
 ],
 "metadata": {
  "kernelspec": {
   "display_name": "Python 3",
   "language": "python",
   "name": "python3"
  },
  "language_info": {
   "codemirror_mode": {
    "name": "ipython",
    "version": 3
   },
   "file_extension": ".py",
   "mimetype": "text/x-python",
   "name": "python",
   "nbconvert_exporter": "python",
   "pygments_lexer": "ipython3",
   "version": "3.6.4"
  }
 },
 "nbformat": 4,
 "nbformat_minor": 2
}
